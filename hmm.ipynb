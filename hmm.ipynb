{
 "cells": [
  {
   "cell_type": "code",
   "execution_count": 4,
   "metadata": {},
   "outputs": [],
   "source": [
    "import os\n",
    "import nltk\n",
    "import random\n",
    "import nltk\n",
    "from nltk.corpus import TaggedCorpusReader\n",
    "from nltk.tag import HiddenMarkovModelTrainer, HiddenMarkovModelTagger\n",
    "from sklearn.model_selection import train_test_split\n"
   ]
  },
  {
   "cell_type": "code",
   "execution_count": 2,
   "metadata": {},
   "outputs": [
    {
     "name": "stdout",
     "output_type": "stream",
     "text": [
      "test.txt processed.\n",
      "train.txt processed.\n"
     ]
    }
   ],
   "source": [
    "input_dir = './data/'  # replace with the path to the folder containing the original CoNLL-2000 chunking files\n",
    "output_dir = './tagonly/'  # replace with the path to the folder where the modified CoNLL-2000 files will be saved\n",
    "\n",
    "if not os.path.exists(output_dir):\n",
    "    os.makedirs(output_dir)\n",
    "\n",
    "for file_name in os.listdir(input_dir):\n",
    "    if file_name.endswith('.txt'):\n",
    "        input_path = os.path.join(input_dir, file_name)\n",
    "        output_path = os.path.join(output_dir, file_name.replace('chunking', 'pos'))\n",
    "        with open(input_path, 'r') as input_file, open(output_path, 'w') as output_file:\n",
    "            for line in input_file:\n",
    "                line = line.strip()\n",
    "                if not line:\n",
    "                    output_file.write('\\n')  # write empty lines as they are\n",
    "                else:\n",
    "                    fields = line.split()\n",
    "                    word = fields[0]\n",
    "                    pos_tag = fields[1]\n",
    "                    output_file.write(f'{word} {pos_tag}\\n')\n",
    "        print(f'{file_name} processed.')\n"
   ]
  },
  {
   "cell_type": "code",
   "execution_count": 5,
   "metadata": {},
   "outputs": [
    {
     "name": "stdout",
     "output_type": "stream",
     "text": [
      "Testing accuracy: 99.79%\n"
     ]
    }
   ],
   "source": [
    "train_file = './tagonly/train.txt'\n",
    "test_file = './tagonly/test.txt'\n",
    "\n",
    "def conll2tuple(filename):\n",
    "    with open(filename, 'r') as f:\n",
    "        data = f.read().strip()\n",
    "    sents = data.split('\\n\\n')\n",
    "    return [[nltk.tag.str2tuple(wordtag) for wordtag in sent.split('\\n')] for sent in sents]\n",
    "\n",
    "# Convert the train and test files to a list of (word, tag) tuples\n",
    "train_sents = conll2tuple(train_file)\n",
    "# test_sents = conll2tuple(test_file)\n",
    "\n",
    "train_sents, test_sents = train_test_split(train_sents, test_size=0.2, random_state=42)\n",
    "\n",
    "# Train an HMM on the train set\n",
    "trainer = HiddenMarkovModelTrainer()\n",
    "model = trainer.train_supervised(train_sents)\n",
    "\n",
    "# Create an HMM tagger from the trained model\n",
    "tagger = HiddenMarkovModelTagger(model._symbols, model._states, model._transitions, model._outputs, model._priors)\n",
    "\n",
    "# Test the HMM tagger on the test set\n",
    "accuracy = tagger.accuracy(test_sents)\n",
    "\n",
    "print(f'Testing accuracy: {accuracy:.2%}')\n"
   ]
  }
 ],
 "metadata": {
  "kernelspec": {
   "display_name": "ML",
   "language": "python",
   "name": "python3"
  },
  "language_info": {
   "codemirror_mode": {
    "name": "ipython",
    "version": 3
   },
   "file_extension": ".py",
   "mimetype": "text/x-python",
   "name": "python",
   "nbconvert_exporter": "python",
   "pygments_lexer": "ipython3",
   "version": "3.10.9"
  },
  "orig_nbformat": 4,
  "vscode": {
   "interpreter": {
    "hash": "3cd8e04f2dc7430a70a46ac679ffd1b8aa71feb6107db349847b87a8af1eaf76"
   }
  }
 },
 "nbformat": 4,
 "nbformat_minor": 2
}
